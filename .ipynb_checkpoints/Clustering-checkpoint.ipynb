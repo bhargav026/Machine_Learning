{
 "cells": [
  {
   "cell_type": "code",
   "execution_count": 1,
   "id": "e82eb311",
   "metadata": {},
   "outputs": [],
   "source": [
    "import pandas as pd\n",
    "import numpy as np\n",
    "import matplotlib.pyplot as plt\n",
    "from sklearn.datasets import make_blobs"
   ]
  },
  {
   "cell_type": "code",
   "execution_count": 2,
   "id": "14b0d24b",
   "metadata": {},
   "outputs": [],
   "source": [
    "from sklearn.cluster import KMeans"
   ]
  },
  {
   "cell_type": "code",
   "execution_count": 3,
   "id": "4e1f1aa7",
   "metadata": {},
   "outputs": [],
   "source": [
    "X = np.array([[1,2],[1,4],[1,0],[10,2],[10,4],[10,0]])"
   ]
  },
  {
   "cell_type": "code",
   "execution_count": 4,
   "id": "5ae8ec4c",
   "metadata": {},
   "outputs": [],
   "source": [
    "kmeans = KMeans(n_clusters = 2, random_state = 0)"
   ]
  },
  {
   "cell_type": "code",
   "execution_count": 5,
   "id": "58162a7c",
   "metadata": {},
   "outputs": [
    {
     "data": {
      "text/plain": [
       "KMeans(n_clusters=2, random_state=0)"
      ]
     },
     "execution_count": 5,
     "metadata": {},
     "output_type": "execute_result"
    }
   ],
   "source": [
    "kmeans.fit(X)"
   ]
  },
  {
   "cell_type": "code",
   "execution_count": 6,
   "id": "7ca9c804",
   "metadata": {},
   "outputs": [
    {
     "data": {
      "text/plain": [
       "array([1, 1, 1, 0, 0, 0])"
      ]
     },
     "execution_count": 6,
     "metadata": {},
     "output_type": "execute_result"
    }
   ],
   "source": [
    "kmeans.labels_"
   ]
  },
  {
   "cell_type": "code",
   "execution_count": 7,
   "id": "163f48bd",
   "metadata": {},
   "outputs": [
    {
     "data": {
      "text/plain": [
       "array([1, 0])"
      ]
     },
     "execution_count": 7,
     "metadata": {},
     "output_type": "execute_result"
    }
   ],
   "source": [
    "kmeans.predict([[5,0],[6,5]])"
   ]
  },
  {
   "cell_type": "code",
   "execution_count": 8,
   "id": "128d3a23",
   "metadata": {},
   "outputs": [
    {
     "data": {
      "text/plain": [
       "array([[10.,  2.],\n",
       "       [ 1.,  2.]])"
      ]
     },
     "execution_count": 8,
     "metadata": {},
     "output_type": "execute_result"
    }
   ],
   "source": [
    "kmeans.cluster_centers_"
   ]
  },
  {
   "cell_type": "code",
   "execution_count": 9,
   "id": "2f154c54",
   "metadata": {},
   "outputs": [],
   "source": [
    "data = pd.DataFrame(X)"
   ]
  },
  {
   "cell_type": "code",
   "execution_count": 10,
   "id": "3c23fe5a",
   "metadata": {},
   "outputs": [],
   "source": [
    "labels=  pd.DataFrame(kmeans.labels_,columns=['class'])"
   ]
  },
  {
   "cell_type": "code",
   "execution_count": 11,
   "id": "19384aa8",
   "metadata": {},
   "outputs": [
    {
     "data": {
      "text/html": [
       "<div>\n",
       "<style scoped>\n",
       "    .dataframe tbody tr th:only-of-type {\n",
       "        vertical-align: middle;\n",
       "    }\n",
       "\n",
       "    .dataframe tbody tr th {\n",
       "        vertical-align: top;\n",
       "    }\n",
       "\n",
       "    .dataframe thead th {\n",
       "        text-align: right;\n",
       "    }\n",
       "</style>\n",
       "<table border=\"1\" class=\"dataframe\">\n",
       "  <thead>\n",
       "    <tr style=\"text-align: right;\">\n",
       "      <th></th>\n",
       "      <th>0</th>\n",
       "      <th>1</th>\n",
       "      <th>class</th>\n",
       "    </tr>\n",
       "  </thead>\n",
       "  <tbody>\n",
       "    <tr>\n",
       "      <th>0</th>\n",
       "      <td>1</td>\n",
       "      <td>2</td>\n",
       "      <td>1</td>\n",
       "    </tr>\n",
       "    <tr>\n",
       "      <th>1</th>\n",
       "      <td>1</td>\n",
       "      <td>4</td>\n",
       "      <td>1</td>\n",
       "    </tr>\n",
       "    <tr>\n",
       "      <th>2</th>\n",
       "      <td>1</td>\n",
       "      <td>0</td>\n",
       "      <td>1</td>\n",
       "    </tr>\n",
       "    <tr>\n",
       "      <th>3</th>\n",
       "      <td>10</td>\n",
       "      <td>2</td>\n",
       "      <td>0</td>\n",
       "    </tr>\n",
       "    <tr>\n",
       "      <th>4</th>\n",
       "      <td>10</td>\n",
       "      <td>4</td>\n",
       "      <td>0</td>\n",
       "    </tr>\n",
       "    <tr>\n",
       "      <th>5</th>\n",
       "      <td>10</td>\n",
       "      <td>0</td>\n",
       "      <td>0</td>\n",
       "    </tr>\n",
       "  </tbody>\n",
       "</table>\n",
       "</div>"
      ],
      "text/plain": [
       "    0  1  class\n",
       "0   1  2      1\n",
       "1   1  4      1\n",
       "2   1  0      1\n",
       "3  10  2      0\n",
       "4  10  4      0\n",
       "5  10  0      0"
      ]
     },
     "execution_count": 11,
     "metadata": {},
     "output_type": "execute_result"
    }
   ],
   "source": [
    "pd.concat([data, labels], axis =1)"
   ]
  },
  {
   "cell_type": "code",
   "execution_count": 12,
   "id": "b28a73b8",
   "metadata": {},
   "outputs": [],
   "source": [
    "X, y = make_blobs(n_samples = 10000, centers = 4, n_features =2, random_state= 1564)"
   ]
  },
  {
   "cell_type": "code",
   "execution_count": 13,
   "id": "8cada9d1",
   "metadata": {},
   "outputs": [
    {
     "data": {
      "text/plain": [
       "array([[-9.17017412, -0.09274059],\n",
       "       [-8.87055922,  0.07277104],\n",
       "       [-3.28399427,  4.2732692 ],\n",
       "       [-6.59808264,  8.67975708]])"
      ]
     },
     "execution_count": 13,
     "metadata": {},
     "output_type": "execute_result"
    }
   ],
   "source": [
    "X[0:4,:]"
   ]
  },
  {
   "cell_type": "code",
   "execution_count": null,
   "id": "8053ddff",
   "metadata": {},
   "outputs": [],
   "source": []
  },
  {
   "cell_type": "code",
   "execution_count": 14,
   "id": "0577e8e1",
   "metadata": {},
   "outputs": [
    {
     "data": {
      "text/plain": [
       "<matplotlib.collections.PathCollection at 0x256a9c0e430>"
      ]
     },
     "execution_count": 14,
     "metadata": {},
     "output_type": "execute_result"
    },
    {
     "data": {
      "image/png": "[encoded data removed]",
      "text/plain": [
       "<Figure size 640x480 with 1 Axes>"
      ]
     },
     "metadata": {},
     "output_type": "display_data"
    }
   ],
   "source": [
    "plt.scatter(X[:,0],X[:,1])"
   ]
  },
  {
   "cell_type": "code",
   "execution_count": 15,
   "id": "06b748af",
   "metadata": {},
   "outputs": [],
   "source": [
    "from sklearn.model_selection import train_test_split\n",
    "X_train, X_test, y_train, y_test = train_test_split(X,y, test_size=0.30,random_state=8784)"
   ]
  },
  {
   "cell_type": "code",
   "execution_count": 16,
   "id": "e3201659",
   "metadata": {},
   "outputs": [],
   "source": [
    "wcss = []\n",
    "for i in range(2,11):\n",
    "    kmeans = KMeans(n_clusters=i, init= \"k-means++\")\n",
    "    kmeans.fit(X_train)\n",
    "    wcss.append(kmeans.inertia_)\n",
    "    "
   ]
  },
  {
   "cell_type": "code",
   "execution_count": 17,
   "id": "5d8bf85e",
   "metadata": {},
   "outputs": [
    {
     "data": {
      "text/plain": [
       "[127163.42193267583,\n",
       " 47605.6155355215,\n",
       " 13985.978335679747,\n",
       " 12811.226397419361,\n",
       " 11683.793733468685,\n",
       " 10595.62091105361,\n",
       " 9443.695728975455,\n",
       " 8663.289710572371,\n",
       " 7904.355558343658]"
      ]
     },
     "execution_count": 17,
     "metadata": {},
     "output_type": "execute_result"
    }
   ],
   "source": [
    "wcss"
   ]
  },
  {
   "cell_type": "code",
   "execution_count": 18,
   "id": "998d5888",
   "metadata": {},
   "outputs": [
    {
     "data": {
      "text/plain": [
       "Text(0.5, 0, '# of clusters')"
      ]
     },
     "execution_count": 18,
     "metadata": {},
     "output_type": "execute_result"
    },
    {
     "data": {
      "image/png": "[encoded data removed]",
      "text/plain": [
       "<Figure size 640x480 with 1 Axes>"
      ]
     },
     "metadata": {},
     "output_type": "display_data"
    }
   ],
   "source": [
    "plt.plot(range(2,11), wcss)\n",
    "plt.xticks(range(2,11))\n",
    "plt.ylabel('WCSS')\n",
    "plt.xlabel('# of clusters')\n"
   ]
  },
  {
   "cell_type": "markdown",
   "id": "8b92f2eb",
   "metadata": {},
   "source": [
    "# Elbow method , Choose K= 4"
   ]
  },
  {
   "cell_type": "code",
   "execution_count": 19,
   "id": "97e0b1cb",
   "metadata": {},
   "outputs": [],
   "source": [
    "kmeans = KMeans(n_clusters=4, init ='k-means++').fit(X)"
   ]
  },
  {
   "cell_type": "code",
   "execution_count": 20,
   "id": "dc0a764c",
   "metadata": {},
   "outputs": [
    {
     "data": {
      "text/plain": [
       "20030.75333869872"
      ]
     },
     "execution_count": 20,
     "metadata": {},
     "output_type": "execute_result"
    }
   ],
   "source": [
    "kmeans.inertia_"
   ]
  },
  {
   "cell_type": "code",
   "execution_count": 21,
   "id": "d4f3ac39",
   "metadata": {},
   "outputs": [],
   "source": [
    "y_labels = kmeans.predict(X_train)"
   ]
  },
  {
   "cell_type": "code",
   "execution_count": 22,
   "id": "e3efe097",
   "metadata": {},
   "outputs": [
    {
     "data": {
      "text/plain": [
       "<matplotlib.collections.PathCollection at 0x256a9cdbb80>"
      ]
     },
     "execution_count": 22,
     "metadata": {},
     "output_type": "execute_result"
    },
    {
     "data": {
      "image/png": "[encoded data removed]",
      "text/plain": [
       "<Figure size 640x480 with 1 Axes>"
      ]
     },
     "metadata": {},
     "output_type": "display_data"
    }
   ],
   "source": [
    "plt.scatter(X_train[:,0],X_train[:,1], c=y_labels)"
   ]
  },
  {
   "cell_type": "code",
   "execution_count": 25,
   "id": "40e05bd0",
   "metadata": {},
   "outputs": [],
   "source": [
    "from kneed import KneeLocator"
   ]
  },
  {
   "cell_type": "code",
   "execution_count": 27,
   "id": "ce2002eb",
   "metadata": {},
   "outputs": [],
   "source": [
    "kneelocator = KneeLocator(range(2,11),wcss, curve='convex',direction='decreasing')"
   ]
  },
  {
   "cell_type": "code",
   "execution_count": 28,
   "id": "d1b36056",
   "metadata": {},
   "outputs": [
    {
     "data": {
      "text/plain": [
       "{4}"
      ]
     },
     "execution_count": 28,
     "metadata": {},
     "output_type": "execute_result"
    }
   ],
   "source": [
    "kneelocator.all_elbows"
   ]
  },
  {
   "cell_type": "code",
   "execution_count": 30,
   "id": "2083e1ad",
   "metadata": {},
   "outputs": [
    {
     "data": {
      "text/plain": [
       "4"
      ]
     },
     "execution_count": 30,
     "metadata": {},
     "output_type": "execute_result"
    }
   ],
   "source": [
    "kneelocator.elbow"
   ]
  },
  {
   "cell_type": "code",
   "execution_count": 29,
   "id": "4178072f",
   "metadata": {},
   "outputs": [
    {
     "data": {
      "text/plain": [
       "array([127163.42193268,  47605.61553552,  13985.97833568,  12811.22639742,\n",
       "        11683.79373347,  10595.62091105,   9443.69572898,   8663.28971057,\n",
       "         7904.35555834])"
      ]
     },
     "execution_count": 29,
     "metadata": {},
     "output_type": "execute_result"
    }
   ],
   "source": [
    "kneelocator.y"
   ]
  },
  {
   "cell_type": "code",
   "execution_count": 31,
   "id": "6daad359",
   "metadata": {},
   "outputs": [],
   "source": [
    "from sklearn.metrics import silhouette_score"
   ]
  },
  {
   "cell_type": "code",
   "execution_count": 35,
   "id": "50e8dacb",
   "metadata": {},
   "outputs": [],
   "source": [
    "sil_score = []\n",
    "for i in range(2,11):\n",
    "    kmean1  = KMeans(n_clusters=i, init = 'k-means++')\n",
    "    kmean1.fit(X_train)\n",
    "    sil_score.append(silhouette_score(X_train, kmean1.labels_))\n",
    "    "
   ]
  },
  {
   "cell_type": "code",
   "execution_count": 36,
   "id": "3ec812ed",
   "metadata": {},
   "outputs": [
    {
     "data": {
      "text/plain": [
       "[0.6891214720672633,\n",
       " 0.6810383329814961,\n",
       " 0.7599986476605437,\n",
       " 0.6495622140839258,\n",
       " 0.5490181957017694,\n",
       " 0.3963849039131183,\n",
       " 0.30539138925518905,\n",
       " 0.31333853933725003,\n",
       " 0.32029921109915477]"
      ]
     },
     "execution_count": 36,
     "metadata": {},
     "output_type": "execute_result"
    }
   ],
   "source": [
    "sil_score"
   ]
  },
  {
   "cell_type": "code",
   "execution_count": null,
   "id": "cb910d25",
   "metadata": {},
   "outputs": [],
   "source": [
    "plt.plot(range(2,11),sil_score)\n",
    "plt.ylabel('sil_score')\n",
    "plt.xticks(range(2,11))\n",
    "plt.xlabel('# of clusters')"
   ]
  },
  {
   "cell_type": "markdown",
   "id": "9715ce9a",
   "metadata": {},
   "source": [
    "# you have a daset   classification dataset(wafer data)\n",
    "\n",
    "you have multiple files\n",
    "\n",
    "take all the files and create a single dataframe\n",
    "\n",
    "then you have to perform clustering (kmean, hirarchical , dbscan)\n",
    "\n",
    "after clustering the data will be segregated\n",
    "\n",
    "then you have to perform supervised learning on each every cluster\n",
    "\n",
    "\n",
    "# This semi supervised technique"
   ]
  },
  {
   "cell_type": "code",
   "execution_count": null,
   "id": "1563accd",
   "metadata": {},
   "outputs": [],
   "source": []
  }
 ],
 "metadata": {
  "kernelspec": {
   "display_name": "Python 3 (ipykernel)",
   "language": "python",
   "name": "python3"
  },
  "language_info": {
   "codemirror_mode": {
    "name": "ipython",
    "version": 3
   },
   "file_extension": ".py",
   "mimetype": "text/x-python",
   "name": "python",
   "nbconvert_exporter": "python",
   "pygments_lexer": "ipython3",
   "version": "3.9.13"
  }
 },
 "nbformat": 4,
 "nbformat_minor": 5
}
